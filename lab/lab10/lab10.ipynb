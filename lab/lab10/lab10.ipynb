{
  "cells": [
    {
      "cell_type": "code",
      "execution_count": 1,
      "id": "cell-lab10-0",
      "metadata": {
        "deletable": false,
        "editable": false,
        "id": "cell-lab10-0",
        "outputId": "80c05ba5-7d95-413b-9dd9-126b89c8aa0c",
        "colab": {
          "base_uri": "https://localhost:8080/"
        }
      },
      "outputs": [
        {
          "output_type": "stream",
          "name": "stdout",
          "text": [
            "Mounted at /content/gdrive\n",
            "fatal: destination path '/content/gdrive/My Drive/colab-materials-data8-notebooks/materials-sp22-colab' already exists and is not an empty directory.\n",
            "Collecting otter-grader==5.5.0\n",
            "  Downloading otter_grader-5.5.0-py3-none-any.whl.metadata (2.9 kB)\n",
            "Collecting dill (from otter-grader==5.5.0)\n",
            "  Downloading dill-0.3.9-py3-none-any.whl.metadata (10 kB)\n",
            "Requirement already satisfied: jinja2 in /usr/local/lib/python3.10/dist-packages (from otter-grader==5.5.0) (3.1.4)\n",
            "Requirement already satisfied: nbformat in /usr/local/lib/python3.10/dist-packages (from otter-grader==5.5.0) (5.10.4)\n",
            "Requirement already satisfied: pandas in /usr/local/lib/python3.10/dist-packages (from otter-grader==5.5.0) (2.2.2)\n",
            "Requirement already satisfied: PyYAML in /usr/local/lib/python3.10/dist-packages (from otter-grader==5.5.0) (6.0.2)\n",
            "Collecting python-on-whales (from otter-grader==5.5.0)\n",
            "  Downloading python_on_whales-0.73.0-py3-none-any.whl.metadata (18 kB)\n",
            "Requirement already satisfied: requests in /usr/local/lib/python3.10/dist-packages (from otter-grader==5.5.0) (2.32.3)\n",
            "Requirement already satisfied: wrapt in /usr/local/lib/python3.10/dist-packages (from otter-grader==5.5.0) (1.16.0)\n",
            "Collecting jupytext (from otter-grader==5.5.0)\n",
            "  Downloading jupytext-1.16.4-py3-none-any.whl.metadata (13 kB)\n",
            "Requirement already satisfied: click in /usr/local/lib/python3.10/dist-packages (from otter-grader==5.5.0) (8.1.7)\n",
            "Collecting fica>=0.3.1 (from otter-grader==5.5.0)\n",
            "  Downloading fica-0.4.1-py3-none-any.whl.metadata (2.0 kB)\n",
            "Requirement already satisfied: ipython in /usr/local/lib/python3.10/dist-packages (from otter-grader==5.5.0) (7.34.0)\n",
            "Requirement already satisfied: astunparse in /usr/local/lib/python3.10/dist-packages (from otter-grader==5.5.0) (1.6.3)\n",
            "Requirement already satisfied: ipywidgets in /usr/local/lib/python3.10/dist-packages (from otter-grader==5.5.0) (7.7.1)\n",
            "Collecting ipylab (from otter-grader==5.5.0)\n",
            "  Downloading ipylab-1.0.0-py3-none-any.whl.metadata (6.7 kB)\n",
            "Requirement already satisfied: nbconvert in /usr/local/lib/python3.10/dist-packages (from otter-grader==5.5.0) (7.16.4)\n",
            "Requirement already satisfied: docutils in /usr/local/lib/python3.10/dist-packages (from fica>=0.3.1->otter-grader==5.5.0) (0.21.2)\n",
            "Requirement already satisfied: sphinx in /usr/local/lib/python3.10/dist-packages (from fica>=0.3.1->otter-grader==5.5.0) (8.1.3)\n",
            "Requirement already satisfied: wheel<1.0,>=0.23.0 in /usr/local/lib/python3.10/dist-packages (from astunparse->otter-grader==5.5.0) (0.44.0)\n",
            "Requirement already satisfied: six<2.0,>=1.6.1 in /usr/local/lib/python3.10/dist-packages (from astunparse->otter-grader==5.5.0) (1.16.0)\n",
            "Requirement already satisfied: ipykernel>=4.5.1 in /usr/local/lib/python3.10/dist-packages (from ipywidgets->otter-grader==5.5.0) (5.5.6)\n",
            "Requirement already satisfied: ipython-genutils~=0.2.0 in /usr/local/lib/python3.10/dist-packages (from ipywidgets->otter-grader==5.5.0) (0.2.0)\n",
            "Requirement already satisfied: traitlets>=4.3.1 in /usr/local/lib/python3.10/dist-packages (from ipywidgets->otter-grader==5.5.0) (5.7.1)\n",
            "Requirement already satisfied: widgetsnbextension~=3.6.0 in /usr/local/lib/python3.10/dist-packages (from ipywidgets->otter-grader==5.5.0) (3.6.10)\n",
            "Requirement already satisfied: jupyterlab-widgets>=1.0.0 in /usr/local/lib/python3.10/dist-packages (from ipywidgets->otter-grader==5.5.0) (3.0.13)\n",
            "Requirement already satisfied: setuptools>=18.5 in /usr/local/lib/python3.10/dist-packages (from ipython->otter-grader==5.5.0) (75.1.0)\n",
            "Collecting jedi>=0.16 (from ipython->otter-grader==5.5.0)\n",
            "  Downloading jedi-0.19.2-py2.py3-none-any.whl.metadata (22 kB)\n",
            "Requirement already satisfied: decorator in /usr/local/lib/python3.10/dist-packages (from ipython->otter-grader==5.5.0) (4.4.2)\n",
            "Requirement already satisfied: pickleshare in /usr/local/lib/python3.10/dist-packages (from ipython->otter-grader==5.5.0) (0.7.5)\n",
            "Requirement already satisfied: prompt-toolkit!=3.0.0,!=3.0.1,<3.1.0,>=2.0.0 in /usr/local/lib/python3.10/dist-packages (from ipython->otter-grader==5.5.0) (3.0.48)\n",
            "Requirement already satisfied: pygments in /usr/local/lib/python3.10/dist-packages (from ipython->otter-grader==5.5.0) (2.18.0)\n",
            "Requirement already satisfied: backcall in /usr/local/lib/python3.10/dist-packages (from ipython->otter-grader==5.5.0) (0.2.0)\n",
            "Requirement already satisfied: matplotlib-inline in /usr/local/lib/python3.10/dist-packages (from ipython->otter-grader==5.5.0) (0.1.7)\n",
            "Requirement already satisfied: pexpect>4.3 in /usr/local/lib/python3.10/dist-packages (from ipython->otter-grader==5.5.0) (4.9.0)\n",
            "Requirement already satisfied: MarkupSafe>=2.0 in /usr/local/lib/python3.10/dist-packages (from jinja2->otter-grader==5.5.0) (3.0.2)\n",
            "Requirement already satisfied: markdown-it-py>=1.0 in /usr/local/lib/python3.10/dist-packages (from jupytext->otter-grader==5.5.0) (3.0.0)\n",
            "Requirement already satisfied: mdit-py-plugins in /usr/local/lib/python3.10/dist-packages (from jupytext->otter-grader==5.5.0) (0.4.2)\n",
            "Requirement already satisfied: packaging in /usr/local/lib/python3.10/dist-packages (from jupytext->otter-grader==5.5.0) (24.2)\n",
            "Requirement already satisfied: tomli in /usr/local/lib/python3.10/dist-packages (from jupytext->otter-grader==5.5.0) (2.0.2)\n",
            "Requirement already satisfied: beautifulsoup4 in /usr/local/lib/python3.10/dist-packages (from nbconvert->otter-grader==5.5.0) (4.12.3)\n",
            "Requirement already satisfied: bleach!=5.0.0 in /usr/local/lib/python3.10/dist-packages (from nbconvert->otter-grader==5.5.0) (6.2.0)\n",
            "Requirement already satisfied: defusedxml in /usr/local/lib/python3.10/dist-packages (from nbconvert->otter-grader==5.5.0) (0.7.1)\n",
            "Requirement already satisfied: jupyter-core>=4.7 in /usr/local/lib/python3.10/dist-packages (from nbconvert->otter-grader==5.5.0) (5.7.2)\n",
            "Requirement already satisfied: jupyterlab-pygments in /usr/local/lib/python3.10/dist-packages (from nbconvert->otter-grader==5.5.0) (0.3.0)\n",
            "Requirement already satisfied: mistune<4,>=2.0.3 in /usr/local/lib/python3.10/dist-packages (from nbconvert->otter-grader==5.5.0) (3.0.2)\n",
            "Requirement already satisfied: nbclient>=0.5.0 in /usr/local/lib/python3.10/dist-packages (from nbconvert->otter-grader==5.5.0) (0.10.0)\n",
            "Requirement already satisfied: pandocfilters>=1.4.1 in /usr/local/lib/python3.10/dist-packages (from nbconvert->otter-grader==5.5.0) (1.5.1)\n",
            "Requirement already satisfied: tinycss2 in /usr/local/lib/python3.10/dist-packages (from nbconvert->otter-grader==5.5.0) (1.4.0)\n",
            "Requirement already satisfied: fastjsonschema>=2.15 in /usr/local/lib/python3.10/dist-packages (from nbformat->otter-grader==5.5.0) (2.20.0)\n",
            "Requirement already satisfied: jsonschema>=2.6 in /usr/local/lib/python3.10/dist-packages (from nbformat->otter-grader==5.5.0) (4.23.0)\n",
            "Requirement already satisfied: numpy>=1.22.4 in /usr/local/lib/python3.10/dist-packages (from pandas->otter-grader==5.5.0) (1.26.4)\n",
            "Requirement already satisfied: python-dateutil>=2.8.2 in /usr/local/lib/python3.10/dist-packages (from pandas->otter-grader==5.5.0) (2.8.2)\n",
            "Requirement already satisfied: pytz>=2020.1 in /usr/local/lib/python3.10/dist-packages (from pandas->otter-grader==5.5.0) (2024.2)\n",
            "Requirement already satisfied: tzdata>=2022.7 in /usr/local/lib/python3.10/dist-packages (from pandas->otter-grader==5.5.0) (2024.2)\n",
            "Requirement already satisfied: pydantic!=2.0.*,<3,>=2 in /usr/local/lib/python3.10/dist-packages (from python-on-whales->otter-grader==5.5.0) (2.9.2)\n",
            "Requirement already satisfied: tqdm in /usr/local/lib/python3.10/dist-packages (from python-on-whales->otter-grader==5.5.0) (4.66.6)\n",
            "Requirement already satisfied: typer>=0.4.1 in /usr/local/lib/python3.10/dist-packages (from python-on-whales->otter-grader==5.5.0) (0.13.0)\n",
            "Requirement already satisfied: typing-extensions in /usr/local/lib/python3.10/dist-packages (from python-on-whales->otter-grader==5.5.0) (4.12.2)\n",
            "Requirement already satisfied: charset-normalizer<4,>=2 in /usr/local/lib/python3.10/dist-packages (from requests->otter-grader==5.5.0) (3.4.0)\n",
            "Requirement already satisfied: idna<4,>=2.5 in /usr/local/lib/python3.10/dist-packages (from requests->otter-grader==5.5.0) (3.10)\n",
            "Requirement already satisfied: urllib3<3,>=1.21.1 in /usr/local/lib/python3.10/dist-packages (from requests->otter-grader==5.5.0) (2.2.3)\n",
            "Requirement already satisfied: certifi>=2017.4.17 in /usr/local/lib/python3.10/dist-packages (from requests->otter-grader==5.5.0) (2024.8.30)\n",
            "Requirement already satisfied: webencodings in /usr/local/lib/python3.10/dist-packages (from bleach!=5.0.0->nbconvert->otter-grader==5.5.0) (0.5.1)\n",
            "Requirement already satisfied: jupyter-client in /usr/local/lib/python3.10/dist-packages (from ipykernel>=4.5.1->ipywidgets->otter-grader==5.5.0) (6.1.12)\n",
            "Requirement already satisfied: tornado>=4.2 in /usr/local/lib/python3.10/dist-packages (from ipykernel>=4.5.1->ipywidgets->otter-grader==5.5.0) (6.3.3)\n",
            "Requirement already satisfied: parso<0.9.0,>=0.8.4 in /usr/local/lib/python3.10/dist-packages (from jedi>=0.16->ipython->otter-grader==5.5.0) (0.8.4)\n",
            "Requirement already satisfied: attrs>=22.2.0 in /usr/local/lib/python3.10/dist-packages (from jsonschema>=2.6->nbformat->otter-grader==5.5.0) (24.2.0)\n",
            "Requirement already satisfied: jsonschema-specifications>=2023.03.6 in /usr/local/lib/python3.10/dist-packages (from jsonschema>=2.6->nbformat->otter-grader==5.5.0) (2024.10.1)\n",
            "Requirement already satisfied: referencing>=0.28.4 in /usr/local/lib/python3.10/dist-packages (from jsonschema>=2.6->nbformat->otter-grader==5.5.0) (0.35.1)\n",
            "Requirement already satisfied: rpds-py>=0.7.1 in /usr/local/lib/python3.10/dist-packages (from jsonschema>=2.6->nbformat->otter-grader==5.5.0) (0.21.0)\n",
            "Requirement already satisfied: platformdirs>=2.5 in /usr/local/lib/python3.10/dist-packages (from jupyter-core>=4.7->nbconvert->otter-grader==5.5.0) (4.3.6)\n",
            "Requirement already satisfied: mdurl~=0.1 in /usr/local/lib/python3.10/dist-packages (from markdown-it-py>=1.0->jupytext->otter-grader==5.5.0) (0.1.2)\n",
            "Requirement already satisfied: ptyprocess>=0.5 in /usr/local/lib/python3.10/dist-packages (from pexpect>4.3->ipython->otter-grader==5.5.0) (0.7.0)\n",
            "Requirement already satisfied: wcwidth in /usr/local/lib/python3.10/dist-packages (from prompt-toolkit!=3.0.0,!=3.0.1,<3.1.0,>=2.0.0->ipython->otter-grader==5.5.0) (0.2.13)\n",
            "Requirement already satisfied: annotated-types>=0.6.0 in /usr/local/lib/python3.10/dist-packages (from pydantic!=2.0.*,<3,>=2->python-on-whales->otter-grader==5.5.0) (0.7.0)\n",
            "Requirement already satisfied: pydantic-core==2.23.4 in /usr/local/lib/python3.10/dist-packages (from pydantic!=2.0.*,<3,>=2->python-on-whales->otter-grader==5.5.0) (2.23.4)\n",
            "Requirement already satisfied: shellingham>=1.3.0 in /usr/local/lib/python3.10/dist-packages (from typer>=0.4.1->python-on-whales->otter-grader==5.5.0) (1.5.4)\n",
            "Requirement already satisfied: rich>=10.11.0 in /usr/local/lib/python3.10/dist-packages (from typer>=0.4.1->python-on-whales->otter-grader==5.5.0) (13.9.4)\n",
            "Requirement already satisfied: notebook>=4.4.1 in /usr/local/lib/python3.10/dist-packages (from widgetsnbextension~=3.6.0->ipywidgets->otter-grader==5.5.0) (6.5.5)\n",
            "Requirement already satisfied: soupsieve>1.2 in /usr/local/lib/python3.10/dist-packages (from beautifulsoup4->nbconvert->otter-grader==5.5.0) (2.6)\n",
            "Requirement already satisfied: sphinxcontrib-applehelp>=1.0.7 in /usr/local/lib/python3.10/dist-packages (from sphinx->fica>=0.3.1->otter-grader==5.5.0) (2.0.0)\n",
            "Requirement already satisfied: sphinxcontrib-devhelp>=1.0.6 in /usr/local/lib/python3.10/dist-packages (from sphinx->fica>=0.3.1->otter-grader==5.5.0) (2.0.0)\n",
            "Requirement already satisfied: sphinxcontrib-htmlhelp>=2.0.6 in /usr/local/lib/python3.10/dist-packages (from sphinx->fica>=0.3.1->otter-grader==5.5.0) (2.1.0)\n",
            "Requirement already satisfied: sphinxcontrib-jsmath>=1.0.1 in /usr/local/lib/python3.10/dist-packages (from sphinx->fica>=0.3.1->otter-grader==5.5.0) (1.0.1)\n",
            "Requirement already satisfied: sphinxcontrib-qthelp>=1.0.6 in /usr/local/lib/python3.10/dist-packages (from sphinx->fica>=0.3.1->otter-grader==5.5.0) (2.0.0)\n",
            "Requirement already satisfied: sphinxcontrib-serializinghtml>=1.1.9 in /usr/local/lib/python3.10/dist-packages (from sphinx->fica>=0.3.1->otter-grader==5.5.0) (2.0.0)\n",
            "Requirement already satisfied: snowballstemmer>=2.2 in /usr/local/lib/python3.10/dist-packages (from sphinx->fica>=0.3.1->otter-grader==5.5.0) (2.2.0)\n",
            "Requirement already satisfied: babel>=2.13 in /usr/local/lib/python3.10/dist-packages (from sphinx->fica>=0.3.1->otter-grader==5.5.0) (2.16.0)\n",
            "Requirement already satisfied: alabaster>=0.7.14 in /usr/local/lib/python3.10/dist-packages (from sphinx->fica>=0.3.1->otter-grader==5.5.0) (1.0.0)\n",
            "Requirement already satisfied: imagesize>=1.3 in /usr/local/lib/python3.10/dist-packages (from sphinx->fica>=0.3.1->otter-grader==5.5.0) (1.4.1)\n",
            "Requirement already satisfied: pyzmq>=13 in /usr/local/lib/python3.10/dist-packages (from jupyter-client->ipykernel>=4.5.1->ipywidgets->otter-grader==5.5.0) (24.0.1)\n",
            "Requirement already satisfied: argon2-cffi in /usr/local/lib/python3.10/dist-packages (from notebook>=4.4.1->widgetsnbextension~=3.6.0->ipywidgets->otter-grader==5.5.0) (23.1.0)\n",
            "Requirement already satisfied: nest-asyncio>=1.5 in /usr/local/lib/python3.10/dist-packages (from notebook>=4.4.1->widgetsnbextension~=3.6.0->ipywidgets->otter-grader==5.5.0) (1.6.0)\n",
            "Requirement already satisfied: Send2Trash>=1.8.0 in /usr/local/lib/python3.10/dist-packages (from notebook>=4.4.1->widgetsnbextension~=3.6.0->ipywidgets->otter-grader==5.5.0) (1.8.3)\n",
            "Requirement already satisfied: terminado>=0.8.3 in /usr/local/lib/python3.10/dist-packages (from notebook>=4.4.1->widgetsnbextension~=3.6.0->ipywidgets->otter-grader==5.5.0) (0.18.1)\n",
            "Requirement already satisfied: prometheus-client in /usr/local/lib/python3.10/dist-packages (from notebook>=4.4.1->widgetsnbextension~=3.6.0->ipywidgets->otter-grader==5.5.0) (0.21.0)\n",
            "Requirement already satisfied: nbclassic>=0.4.7 in /usr/local/lib/python3.10/dist-packages (from notebook>=4.4.1->widgetsnbextension~=3.6.0->ipywidgets->otter-grader==5.5.0) (1.1.0)\n",
            "Requirement already satisfied: notebook-shim>=0.2.3 in /usr/local/lib/python3.10/dist-packages (from nbclassic>=0.4.7->notebook>=4.4.1->widgetsnbextension~=3.6.0->ipywidgets->otter-grader==5.5.0) (0.2.4)\n",
            "Requirement already satisfied: argon2-cffi-bindings in /usr/local/lib/python3.10/dist-packages (from argon2-cffi->notebook>=4.4.1->widgetsnbextension~=3.6.0->ipywidgets->otter-grader==5.5.0) (21.2.0)\n",
            "Requirement already satisfied: jupyter-server<3,>=1.8 in /usr/local/lib/python3.10/dist-packages (from notebook-shim>=0.2.3->nbclassic>=0.4.7->notebook>=4.4.1->widgetsnbextension~=3.6.0->ipywidgets->otter-grader==5.5.0) (1.24.0)\n",
            "Requirement already satisfied: cffi>=1.0.1 in /usr/local/lib/python3.10/dist-packages (from argon2-cffi-bindings->argon2-cffi->notebook>=4.4.1->widgetsnbextension~=3.6.0->ipywidgets->otter-grader==5.5.0) (1.17.1)\n",
            "Requirement already satisfied: pycparser in /usr/local/lib/python3.10/dist-packages (from cffi>=1.0.1->argon2-cffi-bindings->argon2-cffi->notebook>=4.4.1->widgetsnbextension~=3.6.0->ipywidgets->otter-grader==5.5.0) (2.22)\n",
            "Requirement already satisfied: anyio<4,>=3.1.0 in /usr/local/lib/python3.10/dist-packages (from jupyter-server<3,>=1.8->notebook-shim>=0.2.3->nbclassic>=0.4.7->notebook>=4.4.1->widgetsnbextension~=3.6.0->ipywidgets->otter-grader==5.5.0) (3.7.1)\n",
            "Requirement already satisfied: websocket-client in /usr/local/lib/python3.10/dist-packages (from jupyter-server<3,>=1.8->notebook-shim>=0.2.3->nbclassic>=0.4.7->notebook>=4.4.1->widgetsnbextension~=3.6.0->ipywidgets->otter-grader==5.5.0) (1.8.0)\n",
            "Requirement already satisfied: sniffio>=1.1 in /usr/local/lib/python3.10/dist-packages (from anyio<4,>=3.1.0->jupyter-server<3,>=1.8->notebook-shim>=0.2.3->nbclassic>=0.4.7->notebook>=4.4.1->widgetsnbextension~=3.6.0->ipywidgets->otter-grader==5.5.0) (1.3.1)\n",
            "Requirement already satisfied: exceptiongroup in /usr/local/lib/python3.10/dist-packages (from anyio<4,>=3.1.0->jupyter-server<3,>=1.8->notebook-shim>=0.2.3->nbclassic>=0.4.7->notebook>=4.4.1->widgetsnbextension~=3.6.0->ipywidgets->otter-grader==5.5.0) (1.2.2)\n",
            "Downloading otter_grader-5.5.0-py3-none-any.whl (159 kB)\n",
            "\u001b[2K   \u001b[90m━━━━━━━━━━━━━━━━━━━━━━━━━━━━━━━━━━━━━━━━\u001b[0m \u001b[32m159.9/159.9 kB\u001b[0m \u001b[31m7.1 MB/s\u001b[0m eta \u001b[36m0:00:00\u001b[0m\n",
            "\u001b[?25hDownloading fica-0.4.1-py3-none-any.whl (13 kB)\n",
            "Downloading dill-0.3.9-py3-none-any.whl (119 kB)\n",
            "\u001b[2K   \u001b[90m━━━━━━━━━━━━━━━━━━━━━━━━━━━━━━━━━━━━━━━━\u001b[0m \u001b[32m119.4/119.4 kB\u001b[0m \u001b[31m9.6 MB/s\u001b[0m eta \u001b[36m0:00:00\u001b[0m\n",
            "\u001b[?25hDownloading ipylab-1.0.0-py3-none-any.whl (100 kB)\n",
            "\u001b[2K   \u001b[90m━━━━━━━━━━━━━━━━━━━━━━━━━━━━━━━━━━━━━━━━\u001b[0m \u001b[32m100.2/100.2 kB\u001b[0m \u001b[31m8.9 MB/s\u001b[0m eta \u001b[36m0:00:00\u001b[0m\n",
            "\u001b[?25hDownloading jupytext-1.16.4-py3-none-any.whl (153 kB)\n",
            "\u001b[2K   \u001b[90m━━━━━━━━━━━━━━━━━━━━━━━━━━━━━━━━━━━━━━━━\u001b[0m \u001b[32m153.5/153.5 kB\u001b[0m \u001b[31m9.7 MB/s\u001b[0m eta \u001b[36m0:00:00\u001b[0m\n",
            "\u001b[?25hDownloading python_on_whales-0.73.0-py3-none-any.whl (118 kB)\n",
            "\u001b[2K   \u001b[90m━━━━━━━━━━━━━━━━━━━━━━━━━━━━━━━━━━━━━━━━\u001b[0m \u001b[32m118.1/118.1 kB\u001b[0m \u001b[31m8.5 MB/s\u001b[0m eta \u001b[36m0:00:00\u001b[0m\n",
            "\u001b[?25hDownloading jedi-0.19.2-py2.py3-none-any.whl (1.6 MB)\n",
            "\u001b[2K   \u001b[90m━━━━━━━━━━━━━━━━━━━━━━━━━━━━━━━━━━━━━━━━\u001b[0m \u001b[32m1.6/1.6 MB\u001b[0m \u001b[31m50.8 MB/s\u001b[0m eta \u001b[36m0:00:00\u001b[0m\n",
            "\u001b[?25hInstalling collected packages: jedi, dill, fica, python-on-whales, jupytext, ipylab, otter-grader\n",
            "Successfully installed dill-0.3.9 fica-0.4.1 ipylab-1.0.0 jedi-0.19.2 jupytext-1.16.4 otter-grader-5.5.0 python-on-whales-0.73.0\n",
            "/content/gdrive/MyDrive/colab-materials-data8-notebooks/materials-sp22-colab/lab/lab10\n"
          ]
        }
      ],
      "source": [
        "from google.colab import drive\n",
        "drive.mount('/content/gdrive', force_remount=True)\n",
        "\n",
        "!mkdir -p '/content/gdrive/My Drive/colab-materials-data8-notebooks/'\n",
        "!git clone https://github.com/data-8/materials-sp22-colab '/content/gdrive/My Drive/colab-materials-data8-notebooks/materials-sp22-colab/'\n",
        "\n",
        "%pip install otter-grader==5.5.0\n",
        "%cd /content/gdrive/MyDrive/colab-materials-data8-notebooks/materials-sp22-colab/lab/lab10/\n",
        "\n",
        "# Initialize Otter\n",
        "import otter\n",
        "grader = otter.Notebook(colab=True)"
      ]
    },
    {
      "cell_type": "markdown",
      "id": "cell-lab10-1",
      "metadata": {
        "id": "cell-lab10-1"
      },
      "source": [
        "# Lab 10: Conditional Probability\n",
        "Welcome to Lab 10!\n",
        "\n",
        "This lab is an introduction to conditional probabilities.  \n",
        "\n",
        "The lab includes a visualization called an *icon array*. It's meant to be an instructional part of the lab to help build intuitions about conditional probability.  These visualizations do not appear in the textbook and will not appear on any exam.\n",
        "\n",
        "\n",
        "**Submission**: Once you’re finished, run all cells besides the last one, select File > Save Notebook, and then execute the final cell. Then submit the downloaded zip file, that includes your notebook,  according to your instructor's directions.\n",
        "\n",
        "*This content is protected and may not be shared, uploaded, or distributed.*"
      ]
    },
    {
      "cell_type": "code",
      "execution_count": 2,
      "id": "cell-lab10-2",
      "metadata": {
        "id": "cell-lab10-2"
      },
      "outputs": [],
      "source": [
        "# Run this cell to set up the notebook, but please don't change it.\n",
        "\n",
        "# These lines import the Numpy and Datascience modules.\n",
        "import numpy as np\n",
        "from datascience import *\n",
        "\n",
        "# These lines do some fancy plotting magic.\n",
        "import matplotlib\n",
        "%matplotlib inline\n",
        "import matplotlib.pyplot as plt\n",
        "plt.style.use('fivethirtyeight')\n",
        "import warnings\n",
        "warnings.simplefilter('ignore')\n",
        "\n",
        "# This line loads the visualization code for this lab.\n",
        "import visualizations\n"
      ]
    },
    {
      "cell_type": "markdown",
      "id": "cell-lab10-3",
      "metadata": {
        "id": "cell-lab10-3"
      },
      "source": [
        "# 1. What is conditional probability good for?\n",
        "\n",
        "Suppose we have a known population, like all dogs in California.  So far, we've seen three ways of *predicting* something about an individual in that population, given incomplete knowledge about the identity of the individual:\n",
        "\n",
        "* If we know nothing about the individual dog, we could predict that its speed is the *average* or *median* of all the speeds in the population.\n",
        "* If we know the dog's height but not its speed, we could use *linear regression* to predict its speed from its height.  The resulting prediction is still imperfect, but it might be more accurate than the population average.\n",
        "* If we know the dog's breed, height, and age, we could use *nearest-neighbor classification* to predict its speed by comparing it to a collection of dogs with known speed.\n",
        "\n",
        "\n",
        "We can also compute conditional probabilities to make predictions about individuals or events. This technique is different from the previous methods we’ve examined because\n",
        "\n",
        "1. our prediction for each outcome is described by a probability, and\n",
        "2. each probability can be exactly calculated from assumptions, as opposed to estimated from data."
      ]
    },
    {
      "cell_type": "markdown",
      "id": "cell-lab10-4",
      "metadata": {
        "id": "cell-lab10-4"
      },
      "source": [
        "# 2. Icon arrays\n",
        "Parts 3 and 4 of this lab work with a more complex example about disease, but first, let's start with a simple example.\n",
        "\n",
        "Imagine you and Samantha are playing a game in which you are given a marble and tasked to determine the marble's texture and size. You don't know anything about the marble you're given, but you know that Samantha drew it **uniformly at random** from a bag that contained the following marbles:\n",
        "* 4 large shiny marbles,\n",
        "* 1 large dull marble,\n",
        "* 6 small shiny marbles,\n",
        "* 2 small dull marbles."
      ]
    },
    {
      "cell_type": "markdown",
      "id": "cell-lab10-5",
      "metadata": {
        "deletable": false,
        "editable": false,
        "id": "cell-lab10-5"
      },
      "source": [
        "**Question 2.0.1.** Knowing only what we've told you so far, what's the probability that the marble you're given was a large shiny marble?\n"
      ]
    },
    {
      "cell_type": "code",
      "execution_count": 5,
      "id": "cell-lab10-6",
      "metadata": {
        "deletable": false,
        "tags": [],
        "id": "cell-lab10-6"
      },
      "outputs": [],
      "source": [
        "probability_large_shiny = 4/13"
      ]
    },
    {
      "cell_type": "code",
      "execution_count": 6,
      "id": "cell-lab10-7",
      "metadata": {
        "deletable": false,
        "editable": false,
        "id": "cell-lab10-7",
        "outputId": "33209299-95e2-4138-a0bf-3b6627139071",
        "colab": {
          "base_uri": "https://localhost:8080/",
          "height": 46
        }
      },
      "outputs": [
        {
          "output_type": "execute_result",
          "data": {
            "text/plain": [
              "q2_0_1 results: All test cases passed!"
            ],
            "text/html": [
              "<p><strong><pre style='display: inline;'>q2_0_1</pre></strong> passed! 🚀</p>"
            ]
          },
          "metadata": {},
          "execution_count": 6
        }
      ],
      "source": [
        "grader.check(\"q2_0_1\")"
      ]
    },
    {
      "cell_type": "markdown",
      "id": "cell-lab10-8",
      "metadata": {
        "id": "cell-lab10-8"
      },
      "source": [
        "Here's a table with those marbles:"
      ]
    },
    {
      "cell_type": "code",
      "execution_count": 7,
      "id": "cell-lab10-9",
      "metadata": {
        "id": "cell-lab10-9",
        "outputId": "6d8f60cd-0439-451c-a524-10cd4732a220",
        "colab": {
          "base_uri": "https://localhost:8080/",
          "height": 457
        }
      },
      "outputs": [
        {
          "output_type": "display_data",
          "data": {
            "text/plain": [
              "<IPython.core.display.HTML object>"
            ],
            "text/html": [
              "<table border=\"1\" class=\"dataframe\">\n",
              "    <thead>\n",
              "        <tr>\n",
              "            <th>surface</th> <th>size</th>\n",
              "        </tr>\n",
              "    </thead>\n",
              "    <tbody>\n",
              "        <tr>\n",
              "            <td>shiny  </td> <td>large</td>\n",
              "        </tr>\n",
              "        <tr>\n",
              "            <td>shiny  </td> <td>large</td>\n",
              "        </tr>\n",
              "        <tr>\n",
              "            <td>shiny  </td> <td>large</td>\n",
              "        </tr>\n",
              "        <tr>\n",
              "            <td>shiny  </td> <td>large</td>\n",
              "        </tr>\n",
              "        <tr>\n",
              "            <td>dull   </td> <td>large</td>\n",
              "        </tr>\n",
              "        <tr>\n",
              "            <td>shiny  </td> <td>small</td>\n",
              "        </tr>\n",
              "        <tr>\n",
              "            <td>shiny  </td> <td>small</td>\n",
              "        </tr>\n",
              "        <tr>\n",
              "            <td>shiny  </td> <td>small</td>\n",
              "        </tr>\n",
              "        <tr>\n",
              "            <td>shiny  </td> <td>small</td>\n",
              "        </tr>\n",
              "        <tr>\n",
              "            <td>shiny  </td> <td>small</td>\n",
              "        </tr>\n",
              "        <tr>\n",
              "            <td>shiny  </td> <td>small</td>\n",
              "        </tr>\n",
              "        <tr>\n",
              "            <td>dull   </td> <td>small</td>\n",
              "        </tr>\n",
              "        <tr>\n",
              "            <td>dull   </td> <td>small</td>\n",
              "        </tr>\n",
              "    </tbody>\n",
              "</table>"
            ]
          },
          "metadata": {}
        }
      ],
      "source": [
        "marbles = Table.read_table(\"marbles.csv\")\n",
        "marbles.show()"
      ]
    },
    {
      "cell_type": "markdown",
      "id": "cell-lab10-10",
      "metadata": {
        "id": "cell-lab10-10"
      },
      "source": [
        "Here are the counts of each type of marble in a pivot table."
      ]
    },
    {
      "cell_type": "code",
      "execution_count": 8,
      "id": "cell-lab10-11",
      "metadata": {
        "id": "cell-lab10-11",
        "outputId": "6c1dbea0-6777-4ecc-c008-dcb867079df3",
        "colab": {
          "base_uri": "https://localhost:8080/",
          "height": 112
        }
      },
      "outputs": [
        {
          "output_type": "execute_result",
          "data": {
            "text/plain": [
              "size  | dull | shiny\n",
              "large | 1    | 4\n",
              "small | 2    | 6"
            ],
            "text/html": [
              "<table border=\"1\" class=\"dataframe\">\n",
              "    <thead>\n",
              "        <tr>\n",
              "            <th>size</th> <th>dull</th> <th>shiny</th>\n",
              "        </tr>\n",
              "    </thead>\n",
              "    <tbody>\n",
              "        <tr>\n",
              "            <td>large</td> <td>1   </td> <td>4    </td>\n",
              "        </tr>\n",
              "        <tr>\n",
              "            <td>small</td> <td>2   </td> <td>6    </td>\n",
              "        </tr>\n",
              "    </tbody>\n",
              "</table>"
            ]
          },
          "metadata": {},
          "execution_count": 8
        }
      ],
      "source": [
        "marbles.pivot('surface', 'size')"
      ]
    },
    {
      "cell_type": "markdown",
      "id": "cell-lab10-12",
      "metadata": {
        "id": "cell-lab10-12"
      },
      "source": [
        "Here are all the different combinations of surface and size, with the count for each surface-size combination. Each type of marble appears in its own row."
      ]
    },
    {
      "cell_type": "code",
      "execution_count": 13,
      "id": "cell-lab10-13",
      "metadata": {
        "id": "cell-lab10-13",
        "outputId": "c3df2b05-89ce-4541-f04e-39294ddb18d6",
        "colab": {
          "base_uri": "https://localhost:8080/",
          "height": 175
        }
      },
      "outputs": [
        {
          "output_type": "execute_result",
          "data": {
            "text/plain": [
              "surface | size  | count\n",
              "dull    | large | 1\n",
              "dull    | small | 2\n",
              "shiny   | large | 4\n",
              "shiny   | small | 6"
            ],
            "text/html": [
              "<table border=\"1\" class=\"dataframe\">\n",
              "    <thead>\n",
              "        <tr>\n",
              "            <th>surface</th> <th>size</th> <th>count</th>\n",
              "        </tr>\n",
              "    </thead>\n",
              "    <tbody>\n",
              "        <tr>\n",
              "            <td>dull   </td> <td>large</td> <td>1    </td>\n",
              "        </tr>\n",
              "        <tr>\n",
              "            <td>dull   </td> <td>small</td> <td>2    </td>\n",
              "        </tr>\n",
              "        <tr>\n",
              "            <td>shiny  </td> <td>large</td> <td>4    </td>\n",
              "        </tr>\n",
              "        <tr>\n",
              "            <td>shiny  </td> <td>small</td> <td>6    </td>\n",
              "        </tr>\n",
              "    </tbody>\n",
              "</table>"
            ]
          },
          "metadata": {},
          "execution_count": 13
        }
      ],
      "source": [
        "marbles.group(['surface', 'size'])\n"
      ]
    },
    {
      "cell_type": "markdown",
      "id": "cell-lab10-14",
      "metadata": {
        "id": "cell-lab10-14"
      },
      "source": [
        "We've included some code to display something called an *icon array*.  The functions in the cell below create icon arrays from various kinds of tables. Don't worry about understanding the code; just run this cell.\n",
        "\n",
        "**NOTE:** You may ignore the the y-axis labels. Just remember that each box represents 1 marble."
      ]
    },
    {
      "cell_type": "code",
      "execution_count": 14,
      "id": "cell-lab10-15",
      "metadata": {
        "id": "cell-lab10-15"
      },
      "outputs": [],
      "source": [
        "# Run this cell.\n",
        "\n",
        "#######################################################################\n",
        "# The functions you'll need to actually use are in here.  Each is a\n",
        "# way of making an icon array from a differently-formatted table.\n",
        "#######################################################################\n",
        "\n",
        "def display_icon_array(table, groups, individuals_name):\n",
        "    \"\"\"\n",
        "    Given a table and some columns to group it on, displays an icon array\n",
        "    of the groups.\n",
        "\n",
        "    groups should be an array of labels of columns in table.\n",
        "\n",
        "    individuals_name is your name for the individual rows of table.\n",
        "    For example, if we're talking about a population of people,\n",
        "    individuals_name should be \"people\".\n",
        "\n",
        "    For example:\n",
        "\n",
        "    display_icon_array(marbles, [\"surface\", \"size\"], \"marbles\")\n",
        "    \"\"\"\n",
        "    display_grouped_icon_array(table.group(groups), individuals_name)\n",
        "\n",
        "def display_grouped_icon_array(grouped_data, individuals_name):\n",
        "    \"\"\"\n",
        "    Given a table with counts for data grouped by 1 or more categories,\n",
        "    displays an icon array of the groups represented in the table.\n",
        "\n",
        "    grouped_data should be a table of frequencies or counts, such as\n",
        "    a table created by calling the groups method on some table.\n",
        "\n",
        "    individuals_name is your name for the individual members of the\n",
        "    dataset.  For example, if we're talking about a population of\n",
        "    people, individuals_name should be \"people\".\n",
        "\n",
        "    For example:\n",
        "\n",
        "    display_grouped_icon_array(marbles.group([\"surface\", \"size\"]), \"marbles\")\n",
        "    \"\"\"\n",
        "    visualizations.display_combinations(grouped_data, individuals_name=individuals_name)\n",
        "\n",
        "def display_crosstab_icon_array(crosstabulation, x_label, individuals_name):\n",
        "    \"\"\"\n",
        "    Given a crosstabulation table, displays an icon array of the groups\n",
        "    represented in the table.\n",
        "\n",
        "    crosstabulation should be a table of frequencies or counts created by\n",
        "    calling pivot on some table.\n",
        "\n",
        "    x_label should be the label of the categories listed as columns (on\n",
        "    the \"x axis\" when the crosstabulation table is printed).\n",
        "\n",
        "    individuals_name is your name for the individual members of the\n",
        "    dataset.  For example, if we're talking about a population of\n",
        "    people, individuals_name should be \"people\".\n",
        "\n",
        "    For example:\n",
        "\n",
        "    display_crosstab_icon_array(marbles.pivot(\"surface\", \"size\"), \"surface\", \"marbles\")\n",
        "    \"\"\"\n",
        "    display_grouped_icon_array(visualizations.pivot_table_to_groups(crosstabulation, x_label), individuals_name)"
      ]
    },
    {
      "cell_type": "markdown",
      "id": "cell-lab10-16",
      "metadata": {
        "id": "cell-lab10-16"
      },
      "source": [
        "Here's an icon array of all the marbles, grouped by surface and size:"
      ]
    },
    {
      "cell_type": "code",
      "execution_count": 15,
      "id": "cell-lab10-17",
      "metadata": {
        "scrolled": true,
        "id": "cell-lab10-17",
        "outputId": "eb2931de-e170-4110-fd37-37dc508ac832",
        "colab": {
          "base_uri": "https://localhost:8080/",
          "height": 373
        }
      },
      "outputs": [
        {
          "output_type": "error",
          "ename": "ValueError",
          "evalue": "setting an array element with a sequence. The requested array has an inhomogeneous shape after 1 dimensions. The detected shape was (4,) + inhomogeneous part.",
          "traceback": [
            "\u001b[0;31m---------------------------------------------------------------------------\u001b[0m",
            "\u001b[0;31mValueError\u001b[0m                                Traceback (most recent call last)",
            "\u001b[0;32m<ipython-input-15-9000fd0e2d26>\u001b[0m in \u001b[0;36m<cell line: 2>\u001b[0;34m()\u001b[0m\n\u001b[1;32m      1\u001b[0m \u001b[0;31m# Run this cell.\u001b[0m\u001b[0;34m\u001b[0m\u001b[0;34m\u001b[0m\u001b[0m\n\u001b[0;32m----> 2\u001b[0;31m \u001b[0mdisplay_grouped_icon_array\u001b[0m\u001b[0;34m(\u001b[0m\u001b[0mmarbles\u001b[0m\u001b[0;34m.\u001b[0m\u001b[0mgroup\u001b[0m\u001b[0;34m(\u001b[0m\u001b[0;34m[\u001b[0m\u001b[0;34m\"surface\"\u001b[0m\u001b[0;34m,\u001b[0m \u001b[0;34m\"size\"\u001b[0m\u001b[0;34m]\u001b[0m\u001b[0;34m)\u001b[0m\u001b[0;34m,\u001b[0m \u001b[0;34m\"marble(s)\"\u001b[0m\u001b[0;34m)\u001b[0m\u001b[0;34m\u001b[0m\u001b[0;34m\u001b[0m\u001b[0m\n\u001b[0m",
            "\u001b[0;32m<ipython-input-14-1633fe018d58>\u001b[0m in \u001b[0;36mdisplay_grouped_icon_array\u001b[0;34m(grouped_data, individuals_name)\u001b[0m\n\u001b[1;32m     39\u001b[0m     \u001b[0mdisplay_grouped_icon_array\u001b[0m\u001b[0;34m(\u001b[0m\u001b[0mmarbles\u001b[0m\u001b[0;34m.\u001b[0m\u001b[0mgroup\u001b[0m\u001b[0;34m(\u001b[0m\u001b[0;34m[\u001b[0m\u001b[0;34m\"surface\"\u001b[0m\u001b[0;34m,\u001b[0m \u001b[0;34m\"size\"\u001b[0m\u001b[0;34m]\u001b[0m\u001b[0;34m)\u001b[0m\u001b[0;34m,\u001b[0m \u001b[0;34m\"marbles\"\u001b[0m\u001b[0;34m)\u001b[0m\u001b[0;34m\u001b[0m\u001b[0;34m\u001b[0m\u001b[0m\n\u001b[1;32m     40\u001b[0m     \"\"\"\n\u001b[0;32m---> 41\u001b[0;31m     \u001b[0mvisualizations\u001b[0m\u001b[0;34m.\u001b[0m\u001b[0mdisplay_combinations\u001b[0m\u001b[0;34m(\u001b[0m\u001b[0mgrouped_data\u001b[0m\u001b[0;34m,\u001b[0m \u001b[0mindividuals_name\u001b[0m\u001b[0;34m=\u001b[0m\u001b[0mindividuals_name\u001b[0m\u001b[0;34m)\u001b[0m\u001b[0;34m\u001b[0m\u001b[0;34m\u001b[0m\u001b[0m\n\u001b[0m\u001b[1;32m     42\u001b[0m \u001b[0;34m\u001b[0m\u001b[0m\n\u001b[1;32m     43\u001b[0m \u001b[0;32mdef\u001b[0m \u001b[0mdisplay_crosstab_icon_array\u001b[0m\u001b[0;34m(\u001b[0m\u001b[0mcrosstabulation\u001b[0m\u001b[0;34m,\u001b[0m \u001b[0mx_label\u001b[0m\u001b[0;34m,\u001b[0m \u001b[0mindividuals_name\u001b[0m\u001b[0;34m)\u001b[0m\u001b[0;34m:\u001b[0m\u001b[0;34m\u001b[0m\u001b[0;34m\u001b[0m\u001b[0m\n",
            "\u001b[0;32m/content/gdrive/MyDrive/colab-materials-data8-notebooks/materials-sp22-colab/lab/lab10/visualizations.py\u001b[0m in \u001b[0;36mdisplay_combinations\u001b[0;34m(category_counts, individuals_name)\u001b[0m\n\u001b[1;32m    174\u001b[0m \u001b[0;34m\u001b[0m\u001b[0m\n\u001b[1;32m    175\u001b[0m \u001b[0;32mdef\u001b[0m \u001b[0mdisplay_combinations\u001b[0m\u001b[0;34m(\u001b[0m\u001b[0mcategory_counts\u001b[0m\u001b[0;34m,\u001b[0m \u001b[0mindividuals_name\u001b[0m\u001b[0;34m=\u001b[0m\u001b[0;34m\"people\"\u001b[0m\u001b[0;34m)\u001b[0m\u001b[0;34m:\u001b[0m\u001b[0;34m\u001b[0m\u001b[0;34m\u001b[0m\u001b[0m\n\u001b[0;32m--> 176\u001b[0;31m     \u001b[0mdisplays\u001b[0m \u001b[0;34m=\u001b[0m \u001b[0mmake_displayed_rectangles\u001b[0m\u001b[0;34m(\u001b[0m\u001b[0mcompute_combination_data\u001b[0m\u001b[0;34m(\u001b[0m\u001b[0mcategory_counts\u001b[0m\u001b[0;34m,\u001b[0m \u001b[0mindividuals_name\u001b[0m\u001b[0;34m)\u001b[0m\u001b[0;34m)\u001b[0m\u001b[0;34m\u001b[0m\u001b[0;34m\u001b[0m\u001b[0m\n\u001b[0m\u001b[1;32m    177\u001b[0m     \u001b[0mdraw_plot\u001b[0m\u001b[0;34m(\u001b[0m\u001b[0mdisplays\u001b[0m\u001b[0;34m,\u001b[0m \u001b[0mindividuals_name\u001b[0m\u001b[0;34m)\u001b[0m\u001b[0;34m\u001b[0m\u001b[0;34m\u001b[0m\u001b[0m\n\u001b[1;32m    178\u001b[0m \u001b[0;34m\u001b[0m\u001b[0m\n",
            "\u001b[0;32m/content/gdrive/MyDrive/colab-materials-data8-notebooks/materials-sp22-colab/lab/lab10/visualizations.py\u001b[0m in \u001b[0;36mmake_displayed_rectangles\u001b[0;34m(combinations)\u001b[0m\n\u001b[1;32m    138\u001b[0m         \u001b[0;32mreturn\u001b[0m \u001b[0mrectangles\u001b[0m\u001b[0;34m\u001b[0m\u001b[0;34m\u001b[0m\u001b[0m\n\u001b[1;32m    139\u001b[0m \u001b[0;34m\u001b[0m\u001b[0m\n\u001b[0;32m--> 140\u001b[0;31m     \u001b[0mdisplays\u001b[0m\u001b[0;34m.\u001b[0m\u001b[0mappend_column\u001b[0m\u001b[0;34m(\u001b[0m\u001b[0;34m\"rectangles\"\u001b[0m\u001b[0;34m,\u001b[0m \u001b[0mdisplays\u001b[0m\u001b[0;34m.\u001b[0m\u001b[0mapply\u001b[0m\u001b[0;34m(\u001b[0m\u001b[0mrectangles_for_percentage_range\u001b[0m\u001b[0;34m,\u001b[0m \u001b[0;34m[\u001b[0m\u001b[0;34m\"start amount\"\u001b[0m\u001b[0;34m,\u001b[0m \u001b[0;34m\"end amount\"\u001b[0m\u001b[0;34m,\u001b[0m \u001b[0;34m\"color\"\u001b[0m\u001b[0;34m]\u001b[0m\u001b[0;34m)\u001b[0m\u001b[0;34m)\u001b[0m\u001b[0;34m\u001b[0m\u001b[0;34m\u001b[0m\u001b[0m\n\u001b[0m\u001b[1;32m    141\u001b[0m \u001b[0;34m\u001b[0m\u001b[0m\n\u001b[1;32m    142\u001b[0m     \u001b[0;32mreturn\u001b[0m \u001b[0mdisplays\u001b[0m\u001b[0;34m\u001b[0m\u001b[0;34m\u001b[0m\u001b[0m\n",
            "\u001b[0;32m/usr/local/lib/python3.10/dist-packages/datascience/tables.py\u001b[0m in \u001b[0;36mapply\u001b[0;34m(self, fn, *column_or_columns)\u001b[0m\n\u001b[1;32m    534\u001b[0m                 \u001b[0mcolumn_or_columns\u001b[0m \u001b[0;34m=\u001b[0m \u001b[0mcolumn_or_columns\u001b[0m\u001b[0;34m[\u001b[0m\u001b[0;36m0\u001b[0m\u001b[0;34m]\u001b[0m\u001b[0;34m\u001b[0m\u001b[0;34m\u001b[0m\u001b[0m\n\u001b[1;32m    535\u001b[0m             \u001b[0mrows\u001b[0m \u001b[0;34m=\u001b[0m \u001b[0mzip\u001b[0m\u001b[0;34m(\u001b[0m\u001b[0;34m*\u001b[0m\u001b[0mself\u001b[0m\u001b[0;34m.\u001b[0m\u001b[0mselect\u001b[0m\u001b[0;34m(\u001b[0m\u001b[0;34m*\u001b[0m\u001b[0mcolumn_or_columns\u001b[0m\u001b[0;34m)\u001b[0m\u001b[0;34m.\u001b[0m\u001b[0mcolumns\u001b[0m\u001b[0;34m)\u001b[0m\u001b[0;34m\u001b[0m\u001b[0;34m\u001b[0m\u001b[0m\n\u001b[0;32m--> 536\u001b[0;31m             \u001b[0;32mreturn\u001b[0m \u001b[0mnp\u001b[0m\u001b[0;34m.\u001b[0m\u001b[0marray\u001b[0m\u001b[0;34m(\u001b[0m\u001b[0;34m[\u001b[0m\u001b[0mfn\u001b[0m\u001b[0;34m(\u001b[0m\u001b[0;34m*\u001b[0m\u001b[0mrow\u001b[0m\u001b[0;34m)\u001b[0m \u001b[0;32mfor\u001b[0m \u001b[0mrow\u001b[0m \u001b[0;32min\u001b[0m \u001b[0mrows\u001b[0m\u001b[0;34m]\u001b[0m\u001b[0;34m)\u001b[0m\u001b[0;34m\u001b[0m\u001b[0;34m\u001b[0m\u001b[0m\n\u001b[0m\u001b[1;32m    537\u001b[0m \u001b[0;34m\u001b[0m\u001b[0m\n\u001b[1;32m    538\u001b[0m     \u001b[0;32mdef\u001b[0m \u001b[0mfirst\u001b[0m\u001b[0;34m(\u001b[0m\u001b[0mself\u001b[0m\u001b[0;34m,\u001b[0m \u001b[0mlabel\u001b[0m\u001b[0;34m)\u001b[0m\u001b[0;34m:\u001b[0m\u001b[0;34m\u001b[0m\u001b[0;34m\u001b[0m\u001b[0m\n",
            "\u001b[0;31mValueError\u001b[0m: setting an array element with a sequence. The requested array has an inhomogeneous shape after 1 dimensions. The detected shape was (4,) + inhomogeneous part."
          ]
        }
      ],
      "source": [
        "# Run this cell.\n",
        "display_grouped_icon_array(marbles.group([\"surface\", \"size\"]), \"marble(s)\")"
      ]
    },
    {
      "cell_type": "markdown",
      "id": "cell-lab10-18",
      "metadata": {
        "id": "cell-lab10-18"
      },
      "source": [
        "You should imagine that the marble you've been given was selected by a random draw from these 13 icons.\n",
        "\n",
        "The following is an icon array of the marbles, grouped **only by their surface (shiny/dull)**."
      ]
    },
    {
      "cell_type": "code",
      "execution_count": null,
      "id": "cell-lab10-19",
      "metadata": {
        "id": "cell-lab10-19"
      },
      "outputs": [],
      "source": [
        "display_grouped_icon_array(marbles.group(\"surface\"), \"marble(s)\")"
      ]
    },
    {
      "cell_type": "markdown",
      "id": "cell-lab10-20",
      "metadata": {
        "deletable": false,
        "editable": false,
        "id": "cell-lab10-20"
      },
      "source": [
        "Knowing nothing else about the marble, it's equally likely to be any of the marbles depicted above; this is because we've assumed that the marble is selected **uniformly at random** from the bag.\n",
        "\n",
        "**Question 2.0.2.** What's the probability that you've been given a shiny marble?  Calculate this by hand (using Python for arithmetic) by looking at your icon array.\n"
      ]
    },
    {
      "cell_type": "code",
      "execution_count": null,
      "id": "cell-lab10-21",
      "metadata": {
        "deletable": false,
        "tags": [],
        "id": "cell-lab10-21"
      },
      "outputs": [],
      "source": [
        "probability_shiny = ..."
      ]
    },
    {
      "cell_type": "code",
      "execution_count": null,
      "id": "cell-lab10-22",
      "metadata": {
        "deletable": false,
        "editable": false,
        "id": "cell-lab10-22"
      },
      "outputs": [],
      "source": [
        "grader.check(\"q2_0_2\")"
      ]
    },
    {
      "cell_type": "markdown",
      "id": "cell-lab10-23",
      "metadata": {
        "id": "cell-lab10-23"
      },
      "source": [
        "## 2.1. Conditional probability\n",
        "\n",
        "Suppose you overhear Samantha say that you were given a large marble. Does this somehow change the chance that your marble is shiny?  Let's find out.\n",
        "\n",
        "Go back to the full icon array, displayed below for convenience."
      ]
    },
    {
      "cell_type": "code",
      "execution_count": null,
      "id": "cell-lab10-24",
      "metadata": {
        "id": "cell-lab10-24"
      },
      "outputs": [],
      "source": [
        "display_grouped_icon_array(marbles.group([\"surface\", \"size\"]), \"marble(s)\")"
      ]
    },
    {
      "cell_type": "markdown",
      "id": "cell-lab10-25",
      "metadata": {
        "id": "cell-lab10-25"
      },
      "source": [
        "In question 2.0.2, we assumed that the marble you were given was equally likely to be any of the marbles, simply because we didn't know any better.  That's why we looked at all the marbles to compute the probability that your marble was shiny.\n",
        "\n",
        "But assuming that you've been given a large marble, we can eliminate some of these possibilities. In particular, you can't have been given a small shiny marble or a small dull marble.\n",
        "\n",
        "You're still equally likely to have been given any of the remaining marbles, because you don't know any other information.  So here's an icon array of those remaining possibilities:"
      ]
    },
    {
      "cell_type": "code",
      "execution_count": null,
      "id": "cell-lab10-26",
      "metadata": {
        "id": "cell-lab10-26"
      },
      "outputs": [],
      "source": [
        "# Just run this cell.\n",
        "display_grouped_icon_array(marbles.where(\"size\", \"large\").group(\"surface\"), \"large marble(s)\")"
      ]
    },
    {
      "cell_type": "markdown",
      "id": "cell-lab10-27",
      "metadata": {
        "deletable": false,
        "editable": false,
        "id": "cell-lab10-27"
      },
      "source": [
        "**Question 2.1.1.** What's the probability Samantha gives you a shiny marble, knowing that she gave you a large marble?\n",
        "\n",
        "*Hint: Use the icon array.*\n"
      ]
    },
    {
      "cell_type": "code",
      "execution_count": null,
      "id": "cell-lab10-28",
      "metadata": {
        "deletable": false,
        "tags": [],
        "id": "cell-lab10-28"
      },
      "outputs": [],
      "source": [
        "probability_shiny_given_large = ..."
      ]
    },
    {
      "cell_type": "code",
      "execution_count": null,
      "id": "cell-lab10-29",
      "metadata": {
        "deletable": false,
        "editable": false,
        "id": "cell-lab10-29"
      },
      "outputs": [],
      "source": [
        "grader.check(\"q2_1_1\")"
      ]
    },
    {
      "cell_type": "markdown",
      "id": "cell-lab10-30",
      "metadata": {
        "id": "cell-lab10-30"
      },
      "source": [
        "You should have found that this is different from the probability that Samantha gave you a shiny marble, given no size information, which you computed earlier.  The distribution of surfaces among the large marbles is a little different from the distribution of surfaces among all the marbles."
      ]
    },
    {
      "cell_type": "code",
      "execution_count": null,
      "id": "cell-lab10-31",
      "metadata": {
        "id": "cell-lab10-31"
      },
      "outputs": [],
      "source": [
        "# Run this cell to display the icon array. Then fill answer the next question.\n",
        "display_grouped_icon_array(marbles.where(\"surface\", \"shiny\").group(\"size\"), \"shiny marble(s)\")"
      ]
    },
    {
      "cell_type": "markdown",
      "id": "cell-lab10-32",
      "metadata": {
        "deletable": false,
        "editable": false,
        "id": "cell-lab10-32"
      },
      "source": [
        "**Question 2.1.2.** Suppose instead Samantha had said she gave you a **shiny** marble (hooray!). What's the probability that the marble given to you is large?\n",
        "\n",
        "Run the code cell above to display the icon array, then assign `probability_large_given_shiny` to the appropriate value."
      ]
    },
    {
      "cell_type": "code",
      "execution_count": null,
      "id": "cell-lab10-33",
      "metadata": {
        "tags": [],
        "id": "cell-lab10-33"
      },
      "outputs": [],
      "source": [
        "probability_large_given_shiny = ..."
      ]
    },
    {
      "cell_type": "code",
      "execution_count": null,
      "id": "cell-lab10-34",
      "metadata": {
        "deletable": false,
        "editable": false,
        "id": "cell-lab10-34"
      },
      "outputs": [],
      "source": [
        "grader.check(\"q2_1_2\")"
      ]
    },
    {
      "cell_type": "markdown",
      "id": "cell-lab10-35",
      "metadata": {
        "id": "cell-lab10-35"
      },
      "source": [
        "**Question 2.1.3.** Can you answer the previous two questions just by looking at the full icon array?  (You can run the cell below to see it again.)\n",
        "\n",
        "*Hint:* Check out [Ch 18.2](https://inferentialthinking.com/chapters/18/2/Making_Decisions.html) for a refresher on how to use Bayes' Rule."
      ]
    },
    {
      "cell_type": "code",
      "execution_count": null,
      "id": "cell-lab10-36",
      "metadata": {
        "id": "cell-lab10-36"
      },
      "outputs": [],
      "source": [
        "# Just run this cell.  The next cell is where you should write your answer.\n",
        "display_grouped_icon_array(marbles.group([\"surface\", \"size\"]), \"marble(s)\")"
      ]
    },
    {
      "cell_type": "markdown",
      "id": "cell-lab10-37",
      "metadata": {
        "deletable": false,
        "editable": false,
        "id": "cell-lab10-37"
      },
      "source": [
        "If you can, how? If not, why not? Check with your lab peers or a staff member to see if you are on the right track.\n"
      ]
    },
    {
      "cell_type": "markdown",
      "id": "cell-lab10-38",
      "metadata": {
        "id": "cell-lab10-38"
      },
      "source": [
        "# 3. Cancer screening\n",
        "Hopefully the icon arrays from the previous portion helped you build intuition for why conditional probabilities can be helpful. Now, let’s look at a real life application.\n",
        "\n",
        "### Background\n",
        "Medical testing is very important, especially for cancer. A basic cancer screening involves looking for cancer before a person has any symptoms.\n",
        "\n",
        "Cancer screening is not 100% reliable, and it can have errors. There are cases in which someone without cancer or with a benign tumor sees a positive test result. There are also cases where someone with cancer can receive a negative result. (“Positive” implies an indication of cancer in this context.) The first case, called a false positive, could cause anxiety for a patient and lead to further testing that may be risky and involve unnecessary radiation. In the second case, called a false negative, a person would not receive the necessary information and possible treatment for their condition.\n",
        "\n",
        "Conditional probability can provide insight into the accuracy of initial cancer tests. For example, you can compute the chance that a person has cancer given the results of a diagnostic test by combining information from different probability distributions. You’ll see that the chance Person X does have cancer even if they receive a positive result is not necessarily 100%.\n",
        "\n",
        "It is important to note that conditional probabilities offer just one line of insight to understanding a test result and that this statistical approach does not take into account important factors like heredity or environment that come to affect a person’s health and diagnoses. The [Centers for Disease Control and Prevention](https://www.cdc.gov/cancer/dcpc/prevention/screening.htm) (CDC) recommends getting preventative cancer screenings, and one should always consult a doctor if they are concerned about their health."
      ]
    },
    {
      "cell_type": "markdown",
      "id": "cell-lab10-39",
      "metadata": {
        "id": "cell-lab10-39"
      },
      "source": [
        "## 3.1. Basic cancer statistics\n",
        "\n",
        "Note: All of the following statistics are made up and don’t necessarily reflect the actual state of the world.\n",
        "\n",
        "\n",
        "Suppose that in a representative group of 10,000 people who are tested for cancer (\"representative\" meaning that the frequencies of different events are the same as the frequencies in the whole population):\n",
        "1. 100 people have cancer.\n",
        "2. Among the 100 people that have cancer, 90 have positive results on a cancer test and 10 have negative results.  (So 10 people receive false negative results.)\n",
        "3. The other 9,900 people don't have cancer.\n",
        "4. Among these 9,900 people, 198 have positive results on a cancer test and the other 9,702 have negative results.  (So 198 see \"false positive\" results.)\n",
        "\n",
        "Below we've generated a table with data from these 10,000 hypothetical people.\n",
        "\n",
        "*Note: These statistics are made up and don’t necessarily reflect the actual state of the world.*"
      ]
    },
    {
      "cell_type": "code",
      "execution_count": null,
      "id": "cell-lab10-40",
      "metadata": {
        "id": "cell-lab10-40"
      },
      "outputs": [],
      "source": [
        "people = Table().with_columns(\n",
        "    \"status\", [\"cancer\", \"cancer\", \"no cancer\", \"no cancer\"],\n",
        "    \"test status\", [\"positive\", \"negative\", \"positive\", \"negative\"],\n",
        "    \"count\", [90, 10, 198, 9702])\n",
        "people"
      ]
    },
    {
      "cell_type": "markdown",
      "id": "cell-lab10-41",
      "metadata": {
        "deletable": false,
        "editable": false,
        "id": "cell-lab10-41"
      },
      "source": [
        "One way to visualize this dataset is with a contingency table, which you've seen before.\n",
        "\n",
        "**Question 3.1.1.** Using the `people` table defined above, create a contingency table that looks like this:\n",
        "\n",
        "|status|negative|positive|\n",
        "|-|-|-|\n",
        "|cancer|||\n",
        "|no cancer||||\n",
        "\n",
        "...with the **count** of each group filled in, according to what we've told you above.  The counts in the 4 boxes should sum to 10,000.\n"
      ]
    },
    {
      "cell_type": "code",
      "execution_count": null,
      "id": "cell-lab10-42",
      "metadata": {
        "deletable": false,
        "scrolled": true,
        "tags": [],
        "id": "cell-lab10-42"
      },
      "outputs": [],
      "source": [
        "cancer = ...\n",
        "cancer"
      ]
    },
    {
      "cell_type": "code",
      "execution_count": null,
      "id": "cell-lab10-43",
      "metadata": {
        "deletable": false,
        "editable": false,
        "id": "cell-lab10-43"
      },
      "outputs": [],
      "source": [
        "grader.check(\"q3_1_1\")"
      ]
    },
    {
      "cell_type": "markdown",
      "id": "cell-lab10-44",
      "metadata": {
        "id": "cell-lab10-44"
      },
      "source": [
        "Here is the `people` data in an icon array."
      ]
    },
    {
      "cell_type": "code",
      "execution_count": null,
      "id": "cell-lab10-45",
      "metadata": {
        "id": "cell-lab10-45"
      },
      "outputs": [],
      "source": [
        "display_grouped_icon_array(people, \"people who've taken a cancer test\")"
      ]
    },
    {
      "cell_type": "markdown",
      "id": "cell-lab10-46",
      "metadata": {
        "id": "cell-lab10-46"
      },
      "source": [
        "Now let's think about how you can use this kind of information when Person X is tested for cancer.\n",
        "\n",
        "Before you know any information about Person X, you could imagine Person X as a **uniform random sample** of one of the 10,000 people in this imaginary population of people who have been tested.\n",
        "\n",
        "What's the chance that Person X has cancer, knowing nothing else about them?  It's $\\frac{100}{10000}$, or 1%.  We can see that more directly with this icon array:"
      ]
    },
    {
      "cell_type": "code",
      "execution_count": null,
      "id": "cell-lab10-47",
      "metadata": {
        "id": "cell-lab10-47"
      },
      "outputs": [],
      "source": [
        "by_health = people.select(0, 2).group(0, sum).relabeled(1, 'count')\n",
        "display_grouped_icon_array(by_health, \"people who've taken a cancer test\")"
      ]
    },
    {
      "cell_type": "markdown",
      "id": "cell-lab10-48",
      "metadata": {
        "deletable": false,
        "editable": false,
        "id": "cell-lab10-48"
      },
      "source": [
        "**Question 3.1.2.** What's the chance that Person X has a positive test result, knowing nothing else about them?\n",
        "Run the next code cell to display an icon array, then assign `probability_positive_test` to this value."
      ]
    },
    {
      "cell_type": "code",
      "execution_count": null,
      "id": "cell-lab10-49",
      "metadata": {
        "deletable": false,
        "tags": [],
        "id": "cell-lab10-49"
      },
      "outputs": [],
      "source": [
        "# Run this cell first to display an icon array. Then fill in the probability of a positive test result in the last line.\n",
        "by_test = people.select(1, 2).group(0, sum).relabeled(1, 'count')\n",
        "display_grouped_icon_array(by_test, \"people who've taken a cancer test\")\n",
        "\n",
        "# Now fill in the probability of a positive test result\n",
        "probability_positive_test = ..."
      ]
    },
    {
      "cell_type": "markdown",
      "id": "cell-lab10-50",
      "metadata": {
        "id": "cell-lab10-50"
      },
      "source": [
        "## 3.2. Interpreting test results\n",
        "Suppose Person X has a positive test result.  This means that you can now narrow them down to being part of just one of the two following groups:\n",
        "1. The people with cancer who have a positive test result.\n",
        "2. The people without cancer who have a positive test result.\n",
        "\n",
        "Here's an icon array for those two groups:"
      ]
    },
    {
      "cell_type": "code",
      "execution_count": null,
      "id": "cell-lab10-51",
      "metadata": {
        "id": "cell-lab10-51"
      },
      "outputs": [],
      "source": [
        "# Just run this cell.\n",
        "display_grouped_icon_array(people.where(\"test status\", are.equal_to(\"positive\")).drop(1), \"people who have a positive test result\")"
      ]
    },
    {
      "cell_type": "markdown",
      "id": "cell-lab10-52",
      "metadata": {
        "deletable": false,
        "editable": false,
        "id": "cell-lab10-52"
      },
      "source": [
        "The *conditional probability* that Person X **has cancer given their positive test result** is the chance that they're in the first group (cancer), assuming they have a positive test result.\n",
        "\n",
        "**Question 3.2.1.** Eyeballing the icon array above, is the conditional probability that Person X has cancer **given their positive test result** closest to:\n",
        "\n",
        "1. $\\displaystyle\\frac{9}{10}$\n",
        "\n",
        "2. $\\displaystyle\\frac{2}{3}$\n",
        "\n",
        "3. $\\displaystyle\\frac{1}{2}$\n",
        "\n",
        "4. $\\displaystyle\\frac{1}{3}$\n",
        "\n",
        "5. $\\displaystyle\\frac{1}{100}$\n",
        "\n",
        "\n",
        "Assign `rough_prob_cancer_given_positive` to an integer corresponding to your answer.\n"
      ]
    },
    {
      "cell_type": "code",
      "execution_count": null,
      "id": "cell-lab10-53",
      "metadata": {
        "deletable": false,
        "tags": [],
        "id": "cell-lab10-53"
      },
      "outputs": [],
      "source": [
        "# Set this to either 1, 2, 3, 4, or 5 corresponding to the correct probability.\n",
        "rough_prob_cancer_given_positive = ..."
      ]
    },
    {
      "cell_type": "code",
      "execution_count": null,
      "id": "cell-lab10-54",
      "metadata": {
        "deletable": false,
        "editable": false,
        "id": "cell-lab10-54"
      },
      "outputs": [],
      "source": [
        "grader.check(\"q3_2_1\")"
      ]
    },
    {
      "cell_type": "markdown",
      "id": "cell-lab10-55",
      "metadata": {
        "deletable": false,
        "editable": false,
        "id": "cell-lab10-55"
      },
      "source": [
        "**Question 3.2.2.** Now write code to calculate that probability exactly, using the original contingency table you wrote (the `cancer` table).\n",
        "\n",
        "Run the next code cell to see the `cancer` table, then fill in `prob_cancer_given_positive` with your code.\n"
      ]
    },
    {
      "cell_type": "code",
      "execution_count": null,
      "id": "cell-lab10-56",
      "metadata": {
        "deletable": false,
        "tags": [],
        "id": "cell-lab10-56"
      },
      "outputs": [],
      "source": [
        "# Run this cell first to see the cancer table. Then fill in the next line of this cell.\n",
        "cancer.show()\n",
        "\n",
        "prob_cancer_given_positive = ...\n",
        "\n",
        "print('Probability of cancer given positive test result: {}'.format(prob_cancer_given_positive))"
      ]
    },
    {
      "cell_type": "code",
      "execution_count": null,
      "id": "cell-lab10-57",
      "metadata": {
        "deletable": false,
        "editable": false,
        "id": "cell-lab10-57"
      },
      "outputs": [],
      "source": [
        "grader.check(\"q3_2_2\")"
      ]
    },
    {
      "cell_type": "markdown",
      "id": "cell-lab10-58",
      "metadata": {
        "deletable": false,
        "editable": false,
        "id": "cell-lab10-58"
      },
      "source": [
        "**Question 3.2.3.** Look at the full icon array again.  Using that, how would you compute the conditional probability of cancer given a positive test?\n",
        "\n",
        "Run the next code cell to see the full icon array.\n"
      ]
    },
    {
      "cell_type": "code",
      "execution_count": null,
      "id": "cell-lab10-59",
      "metadata": {
        "id": "cell-lab10-59"
      },
      "outputs": [],
      "source": [
        "# The full icon array is given here for your convenience.\n",
        "# Write your answer in the previous cell.\n",
        "display_grouped_icon_array(people, \"people who've taken a cancer test\")"
      ]
    },
    {
      "cell_type": "markdown",
      "id": "cell-lab10-60",
      "metadata": {
        "deletable": false,
        "editable": false,
        "id": "cell-lab10-60"
      },
      "source": [
        "**Question 3.2.4.** Is your answer to question 3.2.2 larger than the overall proportion of people in the population who have cancer (given as 1% in 3.1.1)?  Does that make sense? Check with your peers or a staff member to see if you have the right idea.\n"
      ]
    },
    {
      "cell_type": "markdown",
      "id": "cell-lab10-61",
      "metadata": {
        "id": "cell-lab10-61"
      },
      "source": [
        "# 4. A Subjective Prior\n",
        "\n",
        "Being right isn’t always satisfying. Classifying a Positive patient as not having cancer still seems somehow wrong, for such an accurate test. In this section, we'll take a deeper look at the basis of our probability calculation: the assumption of randomness.\n",
        "\n",
        "Our assumption was that a randomly chosen person was tested from our population of 10,000 individuals. This doesn’t happen in reality. People go in to get tested because they think they might have the disease, or because their doctor thinks they might have the disease. People getting tested are not randomly chosen members of the population.\n",
        "\n",
        "That is why our intuition about people getting tested was not fitting well with the answer that we got. In **Question 3.2.2**, we calculated that the probability of cancer given a positive test result was **0.3125**, or **31.25%**. This seems unusually low, especially given what we know about the efficacy of cancer screenings. We were imagining a realistic situation of a patient going in to get tested because there was some reason for them to do so, whereas the calculation was based on a randomly chosen person being tested.\n",
        "\n",
        "So let’s redo our calculation under the more realistic assumption that the patient is getting tested because the doctor thinks there’s a chance the patient has the disease and compare the two probabilities.\n",
        "\n",
        "**Aside:** For more information about Part 4 of this lab, check out [Section 18.2.2](https://inferentialthinking.com/chapters/18/2/Making_Decisions.html#a-subjective-prior) from the textbook."
      ]
    },
    {
      "cell_type": "markdown",
      "id": "cell-lab10-62",
      "metadata": {
        "id": "cell-lab10-62"
      },
      "source": [
        "## 4.1. A New Look at the Population\n",
        "Suppose now that our population of 10,000 inviduals takes into account the fact that choosing to take a medical test is not done at random; there must be some motive for an individual to take one. Thus, our modified population has the following properties:\n",
        "1. 1,000 people have cancer.\n",
        "1. Among the 1,000 people that have cancer, 900 have positive results on a cancer test and 100 have negative results.\n",
        "3. The other 9,000 people don't have cancer.\n",
        "4. Among these 9,000 people, 180 have positive results on a cancer test and the other 8,820 have negative results.  (So 180 see \"false positive\" results.)\n",
        "\n",
        "Below we've generated a population table called `people_new` and a contingency table with data from these 10,000 hypothetical people called `cancer_new`."
      ]
    },
    {
      "cell_type": "code",
      "execution_count": null,
      "id": "cell-lab10-63",
      "metadata": {
        "id": "cell-lab10-63"
      },
      "outputs": [],
      "source": [
        "# Just run this cell to load the table\n",
        "people_new = Table().with_columns(\n",
        "    \"status\", [\"cancer\", \"cancer\", \"no cancer\", \"no cancer\"],\n",
        "    \"test status\", [\"positive\", \"negative\", \"positive\", \"negative\"],\n",
        "    \"count\", [900, 100, 180, 8820])\n",
        "people_new"
      ]
    },
    {
      "cell_type": "code",
      "execution_count": null,
      "id": "cell-lab10-64",
      "metadata": {
        "id": "cell-lab10-64"
      },
      "outputs": [],
      "source": [
        "# Just run this cell to load the table\n",
        "cancer_new = Table().with_columns(\n",
        "    \"status\", [\"cancer\", \"no cancer\"],\n",
        "    \"negative\", [100, 8820],\n",
        "    \"positive\", [900, 180])\n",
        "cancer_new"
      ]
    },
    {
      "cell_type": "markdown",
      "id": "cell-lab10-65",
      "metadata": {
        "id": "cell-lab10-65"
      },
      "source": [
        "As before, we can present the data above in an icon array. Here is the `people_new` data in such a format."
      ]
    },
    {
      "cell_type": "code",
      "execution_count": null,
      "id": "cell-lab10-66",
      "metadata": {
        "id": "cell-lab10-66"
      },
      "outputs": [],
      "source": [
        "display_grouped_icon_array(people_new, \"people who've taken a cancer test\")"
      ]
    },
    {
      "cell_type": "markdown",
      "id": "cell-lab10-67",
      "metadata": {
        "id": "cell-lab10-67"
      },
      "source": [
        "## 4.2. Interpretation and Comparison\n",
        "As in Part 3, let's suppose Person X has a positive test result.  This means that you can now narrow them down to being part of just one of the two following groups:\n",
        "1. The people with cancer who have a positive test result.\n",
        "2. The people without cancer who have a positive test result.\n",
        "\n",
        "Just as we did in Part 3 of this lab, here's an icon array for those two groups:"
      ]
    },
    {
      "cell_type": "code",
      "execution_count": null,
      "id": "cell-lab10-68",
      "metadata": {
        "id": "cell-lab10-68"
      },
      "outputs": [],
      "source": [
        "# Just run this cell.\n",
        "display_grouped_icon_array(people_new.where(\"test status\", are.equal_to(\"positive\")).drop(1), \"people who have a positive test result\")"
      ]
    },
    {
      "cell_type": "markdown",
      "id": "cell-lab10-69",
      "metadata": {
        "deletable": false,
        "editable": false,
        "id": "cell-lab10-69"
      },
      "source": [
        "**Question 4.2.1.** Using the new contingency table, `cancer_new`, that was provided at the beginning of this section, write code to calculate the exact probability that an individual has cancer given that they've received a positive test result.\n",
        "\n",
        "Run the next code cell to see the `cancer_new` table, then fill in `prob_cancer_given_positive_new` with your code.\n"
      ]
    },
    {
      "cell_type": "code",
      "execution_count": null,
      "id": "cell-lab10-70",
      "metadata": {
        "deletable": false,
        "tags": [],
        "id": "cell-lab10-70"
      },
      "outputs": [],
      "source": [
        "# Run this cell first to see the cancer_new table. Then fill in the next line of this cell.\n",
        "cancer_new.show()\n",
        "\n",
        "prob_cancer_given_positive_new = ...\n",
        "\n",
        "print(f'Probability of cancer given positive test result: {prob_cancer_given_positive_new}')"
      ]
    },
    {
      "cell_type": "code",
      "execution_count": null,
      "id": "cell-lab10-71",
      "metadata": {
        "deletable": false,
        "editable": false,
        "id": "cell-lab10-71"
      },
      "outputs": [],
      "source": [
        "grader.check(\"q4_2_1\")"
      ]
    },
    {
      "cell_type": "markdown",
      "id": "cell-lab10-72",
      "metadata": {
        "deletable": false,
        "editable": false,
        "id": "cell-lab10-72"
      },
      "source": [
        "**Question 4.2.2.** How does your probability in 3.2.2 compare to your answer from 4.2.1? Does that make sense? Check with your peers or a staff member to see if you have the right idea.\n"
      ]
    },
    {
      "cell_type": "markdown",
      "id": "cell-lab10-73",
      "metadata": {
        "id": "cell-lab10-73"
      },
      "source": [
        "## 5. Submission\n",
        "\n",
        "<img src=\"https://github.com/data-8/materials-sp22-colab/blob/main/lab/lab10/harley.jpeg?raw=1\" alt=\"drawing\" width=\"300\"/>\n",
        "\n",
        "We've come full circle! Harley welcomed you to Data 8, and he's here again to send you off. Woof!\n",
        "\n",
        "Congrats, you're done with the final lab!\n",
        "\n",
        "**Important submission steps:**\n",
        "1. Run the tests and verify that they all pass.\n",
        "2. Choose **Save Notebook** from the **File** menu, then **run the final cell**.\n",
        "3. Click the link to download the zip file.\n",
        "4. Then submit the zip file to the corresponding assignment according to your instructor's directions.\n",
        "\n",
        "**It is your responsibility to make sure your work is saved before running the last cell.**"
      ]
    },
    {
      "cell_type": "markdown",
      "id": "cell-lab10-74",
      "metadata": {
        "deletable": false,
        "editable": false,
        "id": "cell-lab10-74"
      },
      "source": [
        "## Submission\n",
        "\n",
        "Make sure you have run all cells in your notebook in order before running the cell below, so that all images/graphs appear in the output. The cell below will generate a zip file for you to submit. **Please save before exporting!**"
      ]
    },
    {
      "cell_type": "code",
      "execution_count": null,
      "id": "cell-lab10-75",
      "metadata": {
        "deletable": false,
        "editable": false,
        "id": "cell-lab10-75"
      },
      "outputs": [],
      "source": [
        "# Save your notebook first, then run this cell to export your submission.\n",
        "grader.export(pdf=False, run_tests=True)"
      ]
    },
    {
      "cell_type": "markdown",
      "id": "cell-lab10-76",
      "metadata": {
        "id": "cell-lab10-76"
      },
      "source": [
        ""
      ]
    }
  ],
  "metadata": {
    "kernelspec": {
      "display_name": "Python 3",
      "language": "python",
      "name": "python3"
    },
    "language_info": {
      "codemirror_mode": {
        "name": "ipython",
        "version": 3
      },
      "file_extension": ".py",
      "mimetype": "text/x-python",
      "name": "python",
      "nbconvert_exporter": "python",
      "pygments_lexer": "ipython3",
      "version": "3.9.10"
    },
    "colab": {
      "provenance": []
    }
  },
  "nbformat": 4,
  "nbformat_minor": 5
}